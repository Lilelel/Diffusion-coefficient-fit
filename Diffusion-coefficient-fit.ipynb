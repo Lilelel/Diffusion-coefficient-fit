{
 "cells": [
  {
   "cell_type": "code",
   "execution_count": 4,
   "metadata": {},
   "outputs": [],
   "source": [
    "#%pylab inline\n",
    "import numpy as np\n",
    "import matplotlib.pyplot as plt\n",
    "import matplotlib\n",
    "from scipy.optimize import curve_fit # Az illesztéshez használt függvény\n",
    "import math\n",
    "import scipy\n",
    "import statistics"
   ]
  },
  {
   "cell_type": "markdown",
   "metadata": {},
   "source": [
    "# Diffusion coefficient from time difference (errorcfn)"
   ]
  },
  {
   "cell_type": "code",
   "execution_count": 5,
   "metadata": {},
   "outputs": [],
   "source": [
    "def gaussian_diffusion(x,c,Dt):\n",
    "    return c*np.exp(-x**2/(4*Dt))\n",
    "\n",
    "def errorc_fn(x,c,Dt):\n",
    "    return c*scipy.special.erfc(x/(2*math.sqrt(Dt)))"
   ]
  },
  {
   "cell_type": "code",
   "execution_count": 6,
   "metadata": {},
   "outputs": [],
   "source": [
    "root_path = r'C:\\Users\\CFY\\Documents\\MFA\\Measurements\\CTAX\\Diffusion\\New_2022\\IgG\\20220310\\chip3\\x451'\n",
    "path_format = \"{}\\Values{}.csv\"\n",
    "channel_length = 800\n",
    "line_length_px_y = 549-32\n",
    "material='IgG'\n",
    "time=0.5\n",
    "profile_position=446\n",
    "\n",
    "number_of_points_deleted=5\n",
    "line_length_px=line_length_px_y-number_of_points_deleted\n",
    "maximum_intensity=0\n",
    "\n",
    "for i in range(14202,14207):\n",
    "    data=np.genfromtxt('{}\\Values{}.csv'.format(root_path,i), delimiter=',', skip_header=1)\n",
    "    max_in_array= np.amax(data[:,1])\n",
    "    if max_in_array > maximum_intensity:\n",
    "        maximum_intensity = max_in_array"
   ]
  },
  {
   "cell_type": "code",
   "execution_count": 8,
   "metadata": {},
   "outputs": [
    {
     "name": "stdout",
     "output_type": "stream",
     "text": [
      "38.003\n"
     ]
    }
   ],
   "source": [
    "myfile = open('{}\\D_x{}_{}_{}_min_vege.txt'.format(root_path,profile_position,material,time), 'w')\n",
    "myfile.writelines(\"Time difference between profiles: \" + str(time) + \" minutes\" + \"\\n \\n\")\n",
    "myfile.writelines(\"D (um2/s): \" + \"\\t\" + \"Errors:\" \"\\n\")\n",
    "\n",
    "diff_coeffs_all=[]\n",
    "\n",
    "for i in range(14202,14207,int(time*2)):\n",
    "    data_ok=np.genfromtxt('{}\\Values{}.csv'.format(root_path,i), delimiter=',',skip_header=1)\n",
    "    data2_ok=np.genfromtxt('{}\\Values{}.csv'.format(root_path,i+int(time*2)), delimiter=',',skip_header=1)\n",
    "    \n",
    "    \n",
    "    for i in range(number_of_points_deleted):\n",
    "        data_ok=np.delete(data_ok,0,0)\n",
    "        data2_ok=np.delete(data2_ok,0,0)\n",
    "    \n",
    "    data_ok[:,1] = data_ok[:,1]/maximum_intensity\n",
    "    data2_ok[:,1] = data2_ok[:,1]/maximum_intensity\n",
    "    \n",
    "    shift_1=round(np.amin(data_ok[1:,]),3)+0.01 \n",
    "    shift_2=round(np.amin(data2_ok[1:,]),3)+0.01\n",
    "    \n",
    "    data_ok[:,0] = data_ok[:,0]*(800/(line_length_px))*10**-6\n",
    "    data2_ok[:,0] = data2_ok[:,0]*(800/(line_length_px))*10**-6\n",
    "\n",
    "    data_ok[:,1] = data_ok[:,1]-shift_1\n",
    "    data2_ok[:,1] = data2_ok[:,1]-shift_2\n",
    "    \n",
    "    #plt.plot(data_ok[:,0],data_ok[:,1],data2_ok[:,0],data2_ok[:,1])\n",
    "    \n",
    "    initial_guess = [1,0.00000000001]\n",
    "    popt, pcov = curve_fit(errorc_fn, data_ok[:,0], data_ok[:,1],p0=initial_guess)\n",
    "\n",
    "    D1=popt[1]\n",
    "    perr1 = np.sqrt(np.diag(pcov))\n",
    "\n",
    "    initial_guess = [1,0.00000000001]\n",
    "    popt, pcov = curve_fit(errorc_fn, data2_ok[:,0], data2_ok[:,1],p0=initial_guess)\n",
    "\n",
    "    D2=popt[1]\n",
    "    perr2 = np.sqrt(np.diag(pcov)) \n",
    "\n",
    "    D=(D2-D1)/(60*time)\n",
    "\n",
    "    if perr1[1]/D1 > perr2[1]/D2:\n",
    "        p_err=perr1[1]/D1*100\n",
    "    else:\n",
    "        p_err=perr2[1]/D2*100\n",
    "        \n",
    "    D=round(D*10**12,3)\n",
    "    diff_coeffs_all.append(D)\n",
    "        \n",
    "    myfile.writelines(str(D) + \"\\t\" + \"\\t\" + str(round(p_err,3)) + \"\\n\")\n",
    "    \n",
    "myfile.writelines(\"\\n\")    \n",
    "myfile.writelines(\"Average D from values: \" + str(round(statistics.mean(diff_coeffs_all),3)))\n",
    "myfile.writelines(\"\\n\")  \n",
    "\n",
    "myfile.close() \n",
    "#print(statistics.mean(diff_coeffs_all))\n"
   ]
  }
 ],
 "metadata": {
  "kernelspec": {
   "display_name": "Python 3",
   "language": "python",
   "name": "python3"
  },
  "language_info": {
   "codemirror_mode": {
    "name": "ipython",
    "version": 3
   },
   "file_extension": ".py",
   "mimetype": "text/x-python",
   "name": "python",
   "nbconvert_exporter": "python",
   "pygments_lexer": "ipython3",
   "version": "3.7.4"
  }
 },
 "nbformat": 4,
 "nbformat_minor": 2
}
